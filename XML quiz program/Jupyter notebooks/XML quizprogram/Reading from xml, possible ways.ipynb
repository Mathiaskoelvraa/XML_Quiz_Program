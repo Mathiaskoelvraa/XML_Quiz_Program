{
 "cells": [
  {
   "cell_type": "code",
   "execution_count": null,
   "metadata": {},
   "outputs": [],
   "source": [
    "from xml.etree import ElementTree\n",
    "\n",
    "tree = ElementTree.parse(\"yourfile.xml\")   \n",
    "olp = tree.findall(\"//onlinePath\")\n",
    "mylist = [t.text for t in olp]"
   ]
  },
  {
   "cell_type": "code",
   "execution_count": null,
   "metadata": {},
   "outputs": [],
   "source": [
    "# XML docs, function and stuff to start with reading:\n",
    "\n",
    "    # https://www.journaldev.com/19392/python-xml-to-json-dict\n",
    "    \n",
    "    # https://www.datacamp.com/community/tutorials/python-xml-elementtree\n",
    "    \n",
    "    # https://stackoverflow.com/questions/2148119/how-to-convert-an-xml-string-to-a-dictionary-in-python\n",
    "    \n",
    "      \n",
    "    \n",
    "    # https://ericscrivner.me/2015/07/python-tip-convert-xml-tree-to-a-dictionary/\n",
    "    \n",
    "    # https://stackabuse.com/reading-and-writing-xml-files-in-python/"
   ]
  },
  {
   "cell_type": "code",
   "execution_count": null,
   "metadata": {},
   "outputs": [],
   "source": [
    "# XML to python  -  background and definitions\n",
    "\n",
    "    # https://stackoverflow.com/questions/4525735/data-from-xml-to-python-list\n",
    "\n",
    "    # https://docs.python.org/3/library/pyexpat.html\n",
    "\n",
    "    # https://docs.python.org/3/library/xml.etree.elementtree.html\n",
    "\n",
    "    # https://docs.python.org/3/library/xml.dom.minidom.html\n",
    "\n",
    "    # https://docs.python-guide.org/scenarios/xml/"
   ]
  },
  {
   "cell_type": "code",
   "execution_count": null,
   "metadata": {},
   "outputs": [],
   "source": [
    "# XML to python list/dict:\n",
    "\n",
    "      ####  !!! read - https://www.datacamp.com/community/tutorials/python-xml-elementtree\n",
    "\n",
    "      # https://stackabuse.com/reading-and-writing-xml-files-in-python/\n",
    "\n",
    "      # https://www.journaldev.com/19392/python-xml-to-json-dict\n",
    "\n",
    "      # https://ericscrivner.me/2015/07/python-tip-convert-xml-tree-to-a-dictionary/\n",
    "        \n",
    "      # https://stackoverflow.com/questions/2148119/how-to-convert-an-xml-string-to-a-dictionary-in-python"
   ]
  },
  {
   "cell_type": "code",
   "execution_count": null,
   "metadata": {},
   "outputs": [],
   "source": [
    "# JSON to list/dict in python:\n",
    "\n",
    "       # https://realpython.com/python-json/\n",
    "\n",
    "       # https://stackoverflow.com/questions/10973614/convert-json-array-to-python-list\n",
    "\n",
    "       # https://stackoverflow.com/questions/19483351/converting-json-string-to-dictionary-not-list\n",
    "    \n",
    "       # https://codingnetworker.com/2015/10/python-dictionaries-json-crash-course/\n",
    "        "
   ]
  }
 ],
 "metadata": {
  "kernelspec": {
   "display_name": "Python 3",
   "language": "python",
   "name": "python3"
  },
  "language_info": {
   "codemirror_mode": {
    "name": "ipython",
    "version": 3
   },
   "file_extension": ".py",
   "mimetype": "text/x-python",
   "name": "python",
   "nbconvert_exporter": "python",
   "pygments_lexer": "ipython3",
   "version": "3.6.5"
  }
 },
 "nbformat": 4,
 "nbformat_minor": 2
}
