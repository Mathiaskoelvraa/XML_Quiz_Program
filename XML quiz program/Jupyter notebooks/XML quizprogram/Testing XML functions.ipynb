{
 "cells": [
  {
   "cell_type": "code",
   "execution_count": 1,
   "metadata": {},
   "outputs": [],
   "source": [
    "\n",
    "#following sets up logic which in following cell will open convinient search window for finding files.\n",
    "# taken from https://stackoverflow.com/questions/20790926/ipython-notebook-open-select-file-with-gui-qt-dialog\n",
    "%gui qt\n",
    "\n",
    "from PyQt5.QtWidgets import QFileDialog\n",
    "\n",
    "def gui_fname(dir=None):\n",
    "    \"\"\"Select a file via a dialog and return the file name.\"\"\"\n",
    "    if dir is None: dir ='./'\n",
    "    fname = QFileDialog.getOpenFileName(None, \"Select data file...\", \n",
    "                dir, filter=\"All files (*);; SM Files (*.sm)\")\n",
    "    return fname[0]"
   ]
  },
  {
   "cell_type": "code",
   "execution_count": 2,
   "metadata": {},
   "outputs": [
    {
     "data": {
      "text/plain": [
       "'D:/OneDrive/Arcedi, Cellula and other companies/Arcedi/jupyter notebooks/XML quizprogram/xml_test_film.xml'"
      ]
     },
     "execution_count": 2,
     "metadata": {},
     "output_type": "execute_result"
    }
   ],
   "source": [
    "import os\n",
    "\n",
    "\n",
    "XML_file = gui_fname()\n",
    "XML_file"
   ]
  },
  {
   "cell_type": "code",
   "execution_count": 3,
   "metadata": {},
   "outputs": [],
   "source": [
    "import xml.etree.ElementTree as ET"
   ]
  },
  {
   "cell_type": "code",
   "execution_count": 4,
   "metadata": {},
   "outputs": [],
   "source": [
    "tree = ET.parse(XML_file)\n",
    "root = tree.getroot()"
   ]
  },
  {
   "cell_type": "code",
   "execution_count": 5,
   "metadata": {},
   "outputs": [
    {
     "data": {
      "text/plain": [
       "{}"
      ]
     },
     "execution_count": 5,
     "metadata": {},
     "output_type": "execute_result"
    }
   ],
   "source": [
    "root.attrib"
   ]
  },
  {
   "cell_type": "code",
   "execution_count": 6,
   "metadata": {},
   "outputs": [
    {
     "name": "stdout",
     "output_type": "stream",
     "text": [
      "<?xml version='1.0' encoding='utf8'?>\n",
      "<collection>\n",
      "    <genre category=\"Action\">\n",
      "        <decade years=\"1980s\">\n",
      "            <movie favorite=\"True\" title=\"Indiana Jones: The raiders of the lost Ark\">\n",
      "                <format multiple=\"No\">DVD</format>\n",
      "                <year>1981</year>\n",
      "                <rating>PG</rating>\n",
      "                <description>\n",
      "                'Archaeologist and adventurer Indiana Jones \n",
      "                is hired by the U.S. government to find the Ark of the \n",
      "                Covenant before the Nazis.'\n",
      "                </description>\n",
      "            </movie>\n",
      "               <movie favorite=\"True\" title=\"THE KARATE KID\">\n",
      "               <format multiple=\"Yes\">DVD,Online</format>\n",
      "               <year>1984</year>\n",
      "               <rating>PG</rating>\n",
      "               <description>None provided.</description>\n",
      "            </movie>\n",
      "            <movie favorite=\"False\" title=\"Back 2 the Future\">\n",
      "               <format multiple=\"False\">Blu-ray</format>\n",
      "               <year>1985</year>\n",
      "               <rating>PG</rating>\n",
      "               <description>Marty McFly</description>\n",
      "            </movie>\n",
      "        </decade>\n",
      "        <decade years=\"1990s\">\n",
      "            <movie favorite=\"False\" title=\"X-Men\">\n",
      "               <format multiple=\"Yes\">dvd, digital</format>\n",
      "               <year>2000</year>\n",
      "               <rating>PG-13</rating>\n",
      "               <description>Two mutants come to a private academy for their kind whose resident superhero team must \n",
      "               oppose a terrorist organization with similar powers.</description>\n",
      "            </movie>\n",
      "            <movie favorite=\"True\" title=\"Batman Returns\">\n",
      "               <format multiple=\"No\">VHS</format>\n",
      "               <year>1992</year>\n",
      "               <rating>PG13</rating>\n",
      "               <description>NA.</description>\n",
      "            </movie>\n",
      "               <movie favorite=\"False\" title=\"Reservoir Dogs\">\n",
      "               <format multiple=\"No\">Online</format>\n",
      "               <year>1992</year>\n",
      "               <rating>R</rating>\n",
      "               <description>WhAtEvER I Want!!!?!</description>\n",
      "            </movie>\n",
      "        </decade>    \n",
      "    </genre>\n",
      "\n",
      "    <genre category=\"Thriller\">\n",
      "        <decade years=\"1970s\">\n",
      "            <movie favorite=\"False\" title=\"ALIEN\">\n",
      "                <format multiple=\"Yes\">DVD</format>\n",
      "                <year>1979</year>\n",
      "                <rating>R</rating>\n",
      "                <description>\"\"\"\"\"\"\"\"\"</description>\n",
      "            </movie>\n",
      "        </decade>\n",
      "        <decade years=\"1980s\">\n",
      "            <movie favorite=\"True\" title=\"Ferris Bueller's Day Off\">\n",
      "                <format multiple=\"No\">DVD</format>\n",
      "                <year>1986</year>\n",
      "                <rating>PG13</rating>\n",
      "                <description>Funny movie about a funny guy</description>\n",
      "            </movie>\n",
      "            <movie favorite=\"FALSE\" title=\"American Psycho\">\n",
      "                <format multiple=\"No\">blue-ray</format>\n",
      "                <year>2000</year>\n",
      "                <rating>Unrated</rating>\n",
      "                <description>psychopathic Bateman</description>\n",
      "            </movie>\n",
      "        </decade>\n",
      "    </genre>\n",
      "</collection>\n"
     ]
    }
   ],
   "source": [
    "print(ET.tostring(root, encoding='utf8').decode('utf8'))"
   ]
  },
  {
   "cell_type": "code",
   "execution_count": 7,
   "metadata": {},
   "outputs": [
    {
     "name": "stdout",
     "output_type": "stream",
     "text": [
      "genre {'category': 'Action'}\n",
      "genre {'category': 'Thriller'}\n"
     ]
    }
   ],
   "source": [
    "for child in root:\n",
    "    print(child.tag, child.attrib)"
   ]
  },
  {
   "cell_type": "code",
   "execution_count": 8,
   "metadata": {},
   "outputs": [
    {
     "name": "stdout",
     "output_type": "stream",
     "text": [
      "{'favorite': 'True', 'title': 'Indiana Jones: The raiders of the lost Ark'}\n",
      "{'favorite': 'True', 'title': 'THE KARATE KID'}\n",
      "{'favorite': 'False', 'title': 'Back 2 the Future'}\n",
      "{'favorite': 'False', 'title': 'X-Men'}\n",
      "{'favorite': 'True', 'title': 'Batman Returns'}\n",
      "{'favorite': 'False', 'title': 'Reservoir Dogs'}\n",
      "{'favorite': 'False', 'title': 'ALIEN'}\n",
      "{'favorite': 'True', 'title': \"Ferris Bueller's Day Off\"}\n",
      "{'favorite': 'FALSE', 'title': 'American Psycho'}\n"
     ]
    }
   ],
   "source": [
    "for movie in root.iter('movie'):\n",
    "    print(movie.attrib)"
   ]
  },
  {
   "cell_type": "code",
   "execution_count": 9,
   "metadata": {},
   "outputs": [
    {
     "name": "stdout",
     "output_type": "stream",
     "text": [
      "<Element 'movie' at 0x0000022B0E9E2EF8>\n",
      "<Element 'movie' at 0x0000022B0E9E9138>\n",
      "<Element 'movie' at 0x0000022B0E9E92C8>\n",
      "<Element 'movie' at 0x0000022B0E9E94A8>\n",
      "<Element 'movie' at 0x0000022B0E9E9638>\n",
      "<Element 'movie' at 0x0000022B0E9E97C8>\n",
      "<Element 'movie' at 0x0000022B0E9E99F8>\n",
      "<Element 'movie' at 0x0000022B0E9E9C28>\n",
      "<Element 'movie' at 0x0000022B0E9E9E08>\n"
     ]
    }
   ],
   "source": [
    "for movie in root.iter('movie'):\n",
    "    print(movie)"
   ]
  },
  {
   "cell_type": "code",
   "execution_count": 10,
   "metadata": {},
   "outputs": [
    {
     "name": "stdout",
     "output_type": "stream",
     "text": [
      "\n",
      "The following command must be run outside of the IPython shell:\n",
      "\n",
      "    $ pip install xmltodict\n",
      "\n",
      "The Python package manager (pip) can only be used from outside of IPython.\n",
      "Please reissue the `pip` command in a separate terminal or command prompt.\n",
      "\n",
      "See the Python documentation for more information on how to install packages:\n",
      "\n",
      "    https://docs.python.org/3/installing/\n"
     ]
    }
   ],
   "source": [
    "pip install xmltodict\n"
   ]
  },
  {
   "cell_type": "code",
   "execution_count": 11,
   "metadata": {},
   "outputs": [
    {
     "ename": "TypeError",
     "evalue": "a bytes-like object is required, not 'ElementTree'",
     "output_type": "error",
     "traceback": [
      "\u001b[1;31m---------------------------------------------------------------------------\u001b[0m",
      "\u001b[1;31mTypeError\u001b[0m                                 Traceback (most recent call last)",
      "\u001b[1;32m<ipython-input-11-c819453d9949>\u001b[0m in \u001b[0;36m<module>\u001b[1;34m()\u001b[0m\n\u001b[0;32m      3\u001b[0m \u001b[1;32mimport\u001b[0m \u001b[0mjson\u001b[0m\u001b[1;33m\u001b[0m\u001b[0m\n\u001b[0;32m      4\u001b[0m \u001b[1;33m\u001b[0m\u001b[0m\n\u001b[1;32m----> 5\u001b[1;33m \u001b[0mmy_dict\u001b[0m \u001b[1;33m=\u001b[0m \u001b[0mxmltodict\u001b[0m\u001b[1;33m.\u001b[0m\u001b[0mparse\u001b[0m\u001b[1;33m(\u001b[0m\u001b[0mtree\u001b[0m\u001b[1;33m)\u001b[0m\u001b[1;33m\u001b[0m\u001b[0m\n\u001b[0m\u001b[0;32m      6\u001b[0m \u001b[1;31m#print(my_dict['collection']['genre'])\u001b[0m\u001b[1;33m\u001b[0m\u001b[1;33m\u001b[0m\u001b[0m\n\u001b[0;32m      7\u001b[0m \u001b[1;33m\u001b[0m\u001b[0m\n",
      "\u001b[1;32m~\\Anaconda3\\lib\\site-packages\\xmltodict.py\u001b[0m in \u001b[0;36mparse\u001b[1;34m(xml_input, encoding, expat, process_namespaces, namespace_separator, disable_entities, **kwargs)\u001b[0m\n\u001b[0;32m    328\u001b[0m         \u001b[0mparser\u001b[0m\u001b[1;33m.\u001b[0m\u001b[0mParseFile\u001b[0m\u001b[1;33m(\u001b[0m\u001b[0mxml_input\u001b[0m\u001b[1;33m)\u001b[0m\u001b[1;33m\u001b[0m\u001b[0m\n\u001b[0;32m    329\u001b[0m     \u001b[1;32melse\u001b[0m\u001b[1;33m:\u001b[0m\u001b[1;33m\u001b[0m\u001b[0m\n\u001b[1;32m--> 330\u001b[1;33m         \u001b[0mparser\u001b[0m\u001b[1;33m.\u001b[0m\u001b[0mParse\u001b[0m\u001b[1;33m(\u001b[0m\u001b[0mxml_input\u001b[0m\u001b[1;33m,\u001b[0m \u001b[1;32mTrue\u001b[0m\u001b[1;33m)\u001b[0m\u001b[1;33m\u001b[0m\u001b[0m\n\u001b[0m\u001b[0;32m    331\u001b[0m     \u001b[1;32mreturn\u001b[0m \u001b[0mhandler\u001b[0m\u001b[1;33m.\u001b[0m\u001b[0mitem\u001b[0m\u001b[1;33m\u001b[0m\u001b[0m\n\u001b[0;32m    332\u001b[0m \u001b[1;33m\u001b[0m\u001b[0m\n",
      "\u001b[1;31mTypeError\u001b[0m: a bytes-like object is required, not 'ElementTree'"
     ]
    }
   ],
   "source": [
    "import xmltodict\n",
    "import pprint\n",
    "import json\n",
    "\n",
    "my_dict = xmltodict.parse(tree)\n",
    "#print(my_dict['collection']['genre'])\n",
    "\n",
    "\n"
   ]
  },
  {
   "cell_type": "code",
   "execution_count": 12,
   "metadata": {},
   "outputs": [
    {
     "data": {
      "text/plain": [
       "'D:\\\\OneDrive\\\\Arcedi, Cellula and other companies\\\\Arcedi\\\\jupyter notebooks\\\\XML quizprogram'"
      ]
     },
     "execution_count": 12,
     "metadata": {},
     "output_type": "execute_result"
    }
   ],
   "source": [
    "import os\n",
    "\n",
    "os.getcwd()"
   ]
  },
  {
   "cell_type": "code",
   "execution_count": 26,
   "metadata": {},
   "outputs": [
    {
     "name": "stdout",
     "output_type": "stream",
     "text": [
      "('{\"collection\": {\"genre\": [{\"@category\": \"Action\", \"decade\": [{\"@years\": '\n",
      " '\"1980s\", \"movie\": [{\"@favorite\": \"True\", \"@title\": \"Indiana Jones: The '\n",
      " 'raiders of the lost Ark\", \"format\": {\"@multiple\": \"No\", \"#text\": \"DVD\"}, '\n",
      " '\"year\": \"1981\", \"rating\": \"PG\", \"description\": \"\\'Archaeologist and '\n",
      " 'adventurer Indiana Jones \\\\n                is hired by the U.S. government '\n",
      " 'to find the Ark of the \\\\n                Covenant before the Nazis.\\'\"}, '\n",
      " '{\"@favorite\": \"True\", \"@title\": \"THE KARATE KID\", \"format\": {\"@multiple\": '\n",
      " '\"Yes\", \"#text\": \"DVD,Online\"}, \"year\": \"1984\", \"rating\": \"PG\", '\n",
      " '\"description\": \"None provided.\"}, {\"@favorite\": \"False\", \"@title\": \"Back 2 '\n",
      " 'the Future\", \"format\": {\"@multiple\": \"False\", \"#text\": \"Blu-ray\"}, \"year\": '\n",
      " '\"1985\", \"rating\": \"PG\", \"description\": \"Marty McFly\"}]}, {\"@years\": \"1990s\", '\n",
      " '\"movie\": [{\"@favorite\": \"False\", \"@title\": \"X-Men\", \"format\": {\"@multiple\": '\n",
      " '\"Yes\", \"#text\": \"dvd, digital\"}, \"year\": \"2000\", \"rating\": \"PG-13\", '\n",
      " '\"description\": \"Two mutants come to a private academy for their kind whose '\n",
      " 'resident superhero team must \\\\n               oppose a terrorist '\n",
      " 'organization with similar powers.\"}, {\"@favorite\": \"True\", \"@title\": \"Batman '\n",
      " 'Returns\", \"format\": {\"@multiple\": \"No\", \"#text\": \"VHS\"}, \"year\": \"1992\", '\n",
      " '\"rating\": \"PG13\", \"description\": \"NA.\"}, {\"@favorite\": \"False\", \"@title\": '\n",
      " '\"Reservoir Dogs\", \"format\": {\"@multiple\": \"No\", \"#text\": \"Online\"}, \"year\": '\n",
      " '\"1992\", \"rating\": \"R\", \"description\": \"WhAtEvER I Want!!!?!\"}]}]}, '\n",
      " '{\"@category\": \"Thriller\", \"decade\": [{\"@years\": \"1970s\", \"movie\": '\n",
      " '{\"@favorite\": \"False\", \"@title\": \"ALIEN\", \"format\": {\"@multiple\": \"Yes\", '\n",
      " '\"#text\": \"DVD\"}, \"year\": \"1979\", \"rating\": \"R\", \"description\": '\n",
      " '\"\\\\\"\\\\\"\\\\\"\\\\\"\\\\\"\\\\\"\\\\\"\\\\\"\\\\\"\"}}, {\"@years\": \"1980s\", \"movie\": [{\"@favorite\": '\n",
      " '\"True\", \"@title\": \"Ferris Bueller\\'s Day Off\", \"format\": {\"@multiple\": \"No\", '\n",
      " '\"#text\": \"DVD\"}, \"year\": \"1986\", \"rating\": \"PG13\", \"description\": \"Funny '\n",
      " 'movie about a funny guy\"}, {\"@favorite\": \"FALSE\", \"@title\": \"American '\n",
      " 'Psycho\", \"format\": {\"@multiple\": \"No\", \"#text\": \"blue-ray\"}, \"year\": \"2000\", '\n",
      " '\"rating\": \"Unrated\", \"description\": \"psychopathic Bateman\"}]}]}]}}')\n"
     ]
    }
   ],
   "source": [
    "\n",
    "# Using https://www.journaldev.com/19392/python-xml-to-json-dict :\n",
    "\n",
    "import xmltodict\n",
    "import pprint\n",
    "import json\n",
    "\n",
    "with open('xml_test_film.xml') as fd:\n",
    "    doc = xmltodict.parse(fd.read())\n",
    "\n",
    "pp = pprint.PrettyPrinter(indent=4)\n",
    "pp.pprint(json.dumps(doc))\n",
    "\n"
   ]
  },
  {
   "cell_type": "code",
   "execution_count": 29,
   "metadata": {},
   "outputs": [
    {
     "data": {
      "text/plain": [
       "OrderedDict([('genre',\n",
       "              [OrderedDict([('@category', 'Action'),\n",
       "                            ('decade',\n",
       "                             [OrderedDict([('@years', '1980s'),\n",
       "                                           ('movie',\n",
       "                                            [OrderedDict([('@favorite',\n",
       "                                                           'True'),\n",
       "                                                          ('@title',\n",
       "                                                           'Indiana Jones: The raiders of the lost Ark'),\n",
       "                                                          ('format',\n",
       "                                                           OrderedDict([('@multiple',\n",
       "                                                                         'No'),\n",
       "                                                                        ('#text',\n",
       "                                                                         'DVD')])),\n",
       "                                                          ('year', '1981'),\n",
       "                                                          ('rating', 'PG'),\n",
       "                                                          ('description',\n",
       "                                                           \"'Archaeologist and adventurer Indiana Jones \\n                is hired by the U.S. government to find the Ark of the \\n                Covenant before the Nazis.'\")]),\n",
       "                                             OrderedDict([('@favorite',\n",
       "                                                           'True'),\n",
       "                                                          ('@title',\n",
       "                                                           'THE KARATE KID'),\n",
       "                                                          ('format',\n",
       "                                                           OrderedDict([('@multiple',\n",
       "                                                                         'Yes'),\n",
       "                                                                        ('#text',\n",
       "                                                                         'DVD,Online')])),\n",
       "                                                          ('year', '1984'),\n",
       "                                                          ('rating', 'PG'),\n",
       "                                                          ('description',\n",
       "                                                           'None provided.')]),\n",
       "                                             OrderedDict([('@favorite',\n",
       "                                                           'False'),\n",
       "                                                          ('@title',\n",
       "                                                           'Back 2 the Future'),\n",
       "                                                          ('format',\n",
       "                                                           OrderedDict([('@multiple',\n",
       "                                                                         'False'),\n",
       "                                                                        ('#text',\n",
       "                                                                         'Blu-ray')])),\n",
       "                                                          ('year', '1985'),\n",
       "                                                          ('rating', 'PG'),\n",
       "                                                          ('description',\n",
       "                                                           'Marty McFly')])])]),\n",
       "                              OrderedDict([('@years', '1990s'),\n",
       "                                           ('movie',\n",
       "                                            [OrderedDict([('@favorite',\n",
       "                                                           'False'),\n",
       "                                                          ('@title', 'X-Men'),\n",
       "                                                          ('format',\n",
       "                                                           OrderedDict([('@multiple',\n",
       "                                                                         'Yes'),\n",
       "                                                                        ('#text',\n",
       "                                                                         'dvd, digital')])),\n",
       "                                                          ('year', '2000'),\n",
       "                                                          ('rating', 'PG-13'),\n",
       "                                                          ('description',\n",
       "                                                           'Two mutants come to a private academy for their kind whose resident superhero team must \\n               oppose a terrorist organization with similar powers.')]),\n",
       "                                             OrderedDict([('@favorite',\n",
       "                                                           'True'),\n",
       "                                                          ('@title',\n",
       "                                                           'Batman Returns'),\n",
       "                                                          ('format',\n",
       "                                                           OrderedDict([('@multiple',\n",
       "                                                                         'No'),\n",
       "                                                                        ('#text',\n",
       "                                                                         'VHS')])),\n",
       "                                                          ('year', '1992'),\n",
       "                                                          ('rating', 'PG13'),\n",
       "                                                          ('description',\n",
       "                                                           'NA.')]),\n",
       "                                             OrderedDict([('@favorite',\n",
       "                                                           'False'),\n",
       "                                                          ('@title',\n",
       "                                                           'Reservoir Dogs'),\n",
       "                                                          ('format',\n",
       "                                                           OrderedDict([('@multiple',\n",
       "                                                                         'No'),\n",
       "                                                                        ('#text',\n",
       "                                                                         'Online')])),\n",
       "                                                          ('year', '1992'),\n",
       "                                                          ('rating', 'R'),\n",
       "                                                          ('description',\n",
       "                                                           'WhAtEvER I Want!!!?!')])])])])]),\n",
       "               OrderedDict([('@category', 'Thriller'),\n",
       "                            ('decade',\n",
       "                             [OrderedDict([('@years', '1970s'),\n",
       "                                           ('movie',\n",
       "                                            OrderedDict([('@favorite',\n",
       "                                                          'False'),\n",
       "                                                         ('@title', 'ALIEN'),\n",
       "                                                         ('format',\n",
       "                                                          OrderedDict([('@multiple',\n",
       "                                                                        'Yes'),\n",
       "                                                                       ('#text',\n",
       "                                                                        'DVD')])),\n",
       "                                                         ('year', '1979'),\n",
       "                                                         ('rating', 'R'),\n",
       "                                                         ('description',\n",
       "                                                          '\"\"\"\"\"\"\"\"\"')]))]),\n",
       "                              OrderedDict([('@years', '1980s'),\n",
       "                                           ('movie',\n",
       "                                            [OrderedDict([('@favorite',\n",
       "                                                           'True'),\n",
       "                                                          ('@title',\n",
       "                                                           \"Ferris Bueller's Day Off\"),\n",
       "                                                          ('format',\n",
       "                                                           OrderedDict([('@multiple',\n",
       "                                                                         'No'),\n",
       "                                                                        ('#text',\n",
       "                                                                         'DVD')])),\n",
       "                                                          ('year', '1986'),\n",
       "                                                          ('rating', 'PG13'),\n",
       "                                                          ('description',\n",
       "                                                           'Funny movie about a funny guy')]),\n",
       "                                             OrderedDict([('@favorite',\n",
       "                                                           'FALSE'),\n",
       "                                                          ('@title',\n",
       "                                                           'American Psycho'),\n",
       "                                                          ('format',\n",
       "                                                           OrderedDict([('@multiple',\n",
       "                                                                         'No'),\n",
       "                                                                        ('#text',\n",
       "                                                                         'blue-ray')])),\n",
       "                                                          ('year', '2000'),\n",
       "                                                          ('rating',\n",
       "                                                           'Unrated'),\n",
       "                                                          ('description',\n",
       "                                                           'psychopathic Bateman')])])])])])])])"
      ]
     },
     "execution_count": 29,
     "metadata": {},
     "output_type": "execute_result"
    }
   ],
   "source": [
    "# using https://docs.python-guide.org/scenarios/xml/\n",
    "\n",
    "import xmltodict\n",
    "import pprint\n",
    "import json\n",
    "\n",
    "with open('xml_test_film.xml') as fd:\n",
    "    doc = xmltodict.parse(fd.read())\n",
    "\n",
    "\n",
    "doc['collection']\n",
    "\n",
    "#doc['collection']['@category']"
   ]
  },
  {
   "cell_type": "code",
   "execution_count": 14,
   "metadata": {},
   "outputs": [
    {
     "data": {
      "application/json": {
       "collection": {
        "genre": [
         {
          "@category": "Action",
          "decade": [
           {
            "@years": "1980s",
            "movie": [
             {
              "@favorite": "True",
              "@title": "Indiana Jones: The raiders of the lost Ark",
              "description": "'Archaeologist and adventurer Indiana Jones \n                is hired by the U.S. government to find the Ark of the \n                Covenant before the Nazis.'",
              "format": {
               "#text": "DVD",
               "@multiple": "No"
              },
              "rating": "PG",
              "year": "1981"
             },
             {
              "@favorite": "True",
              "@title": "THE KARATE KID",
              "description": "None provided.",
              "format": {
               "#text": "DVD,Online",
               "@multiple": "Yes"
              },
              "rating": "PG",
              "year": "1984"
             },
             {
              "@favorite": "False",
              "@title": "Back 2 the Future",
              "description": "Marty McFly",
              "format": {
               "#text": "Blu-ray",
               "@multiple": "False"
              },
              "rating": "PG",
              "year": "1985"
             }
            ]
           },
           {
            "@years": "1990s",
            "movie": [
             {
              "@favorite": "False",
              "@title": "X-Men",
              "description": "Two mutants come to a private academy for their kind whose resident superhero team must \n               oppose a terrorist organization with similar powers.",
              "format": {
               "#text": "dvd, digital",
               "@multiple": "Yes"
              },
              "rating": "PG-13",
              "year": "2000"
             },
             {
              "@favorite": "True",
              "@title": "Batman Returns",
              "description": "NA.",
              "format": {
               "#text": "VHS",
               "@multiple": "No"
              },
              "rating": "PG13",
              "year": "1992"
             },
             {
              "@favorite": "False",
              "@title": "Reservoir Dogs",
              "description": "WhAtEvER I Want!!!?!",
              "format": {
               "#text": "Online",
               "@multiple": "No"
              },
              "rating": "R",
              "year": "1992"
             }
            ]
           }
          ]
         },
         {
          "@category": "Thriller",
          "decade": [
           {
            "@years": "1970s",
            "movie": {
             "@favorite": "False",
             "@title": "ALIEN",
             "description": "\"\"\"\"\"\"\"\"\"",
             "format": {
              "#text": "DVD",
              "@multiple": "Yes"
             },
             "rating": "R",
             "year": "1979"
            }
           },
           {
            "@years": "1980s",
            "movie": [
             {
              "@favorite": "True",
              "@title": "Ferris Bueller's Day Off",
              "description": "Funny movie about a funny guy",
              "format": {
               "#text": "DVD",
               "@multiple": "No"
              },
              "rating": "PG13",
              "year": "1986"
             },
             {
              "@favorite": "FALSE",
              "@title": "American Psycho",
              "description": "psychopathic Bateman",
              "format": {
               "#text": "blue-ray",
               "@multiple": "No"
              },
              "rating": "Unrated",
              "year": "2000"
             }
            ]
           }
          ]
         }
        ]
       }
      },
      "text/plain": [
       "<IPython.core.display.JSON object>"
      ]
     },
     "execution_count": 14,
     "metadata": {
      "application/json": {
       "expanded": true
      }
     },
     "output_type": "execute_result"
    }
   ],
   "source": [
    "from IPython.display import JSON\n",
    "\n",
    "JSON(doc, expanded=True)\n",
    "\n"
   ]
  },
  {
   "cell_type": "code",
   "execution_count": 15,
   "metadata": {},
   "outputs": [
    {
     "data": {
      "text/html": [
       "<div id=\"b5f3b465-3fb2-47e6-8331-77cd6d99e990\" style=\"height: 600px; width:100%;\"></div>"
      ]
     },
     "metadata": {},
     "output_type": "display_data"
    },
    {
     "data": {
      "application/javascript": [
       "\n",
       "        require([\"https://rawgit.com/caldwell/renderjson/master/renderjson.js\"], function() {\n",
       "        document.getElementById('b5f3b465-3fb2-47e6-8331-77cd6d99e990').appendChild(renderjson({\"collection\": {\"genre\": [{\"@category\": \"Action\", \"decade\": [{\"@years\": \"1980s\", \"movie\": [{\"@favorite\": \"True\", \"@title\": \"Indiana Jones: The raiders of the lost Ark\", \"format\": {\"@multiple\": \"No\", \"#text\": \"DVD\"}, \"year\": \"1981\", \"rating\": \"PG\", \"description\": \"'Archaeologist and adventurer Indiana Jones \\n                is hired by the U.S. government to find the Ark of the \\n                Covenant before the Nazis.'\"}, {\"@favorite\": \"True\", \"@title\": \"THE KARATE KID\", \"format\": {\"@multiple\": \"Yes\", \"#text\": \"DVD,Online\"}, \"year\": \"1984\", \"rating\": \"PG\", \"description\": \"None provided.\"}, {\"@favorite\": \"False\", \"@title\": \"Back 2 the Future\", \"format\": {\"@multiple\": \"False\", \"#text\": \"Blu-ray\"}, \"year\": \"1985\", \"rating\": \"PG\", \"description\": \"Marty McFly\"}]}, {\"@years\": \"1990s\", \"movie\": [{\"@favorite\": \"False\", \"@title\": \"X-Men\", \"format\": {\"@multiple\": \"Yes\", \"#text\": \"dvd, digital\"}, \"year\": \"2000\", \"rating\": \"PG-13\", \"description\": \"Two mutants come to a private academy for their kind whose resident superhero team must \\n               oppose a terrorist organization with similar powers.\"}, {\"@favorite\": \"True\", \"@title\": \"Batman Returns\", \"format\": {\"@multiple\": \"No\", \"#text\": \"VHS\"}, \"year\": \"1992\", \"rating\": \"PG13\", \"description\": \"NA.\"}, {\"@favorite\": \"False\", \"@title\": \"Reservoir Dogs\", \"format\": {\"@multiple\": \"No\", \"#text\": \"Online\"}, \"year\": \"1992\", \"rating\": \"R\", \"description\": \"WhAtEvER I Want!!!?!\"}]}]}, {\"@category\": \"Thriller\", \"decade\": [{\"@years\": \"1970s\", \"movie\": {\"@favorite\": \"False\", \"@title\": \"ALIEN\", \"format\": {\"@multiple\": \"Yes\", \"#text\": \"DVD\"}, \"year\": \"1979\", \"rating\": \"R\", \"description\": \"\\\"\\\"\\\"\\\"\\\"\\\"\\\"\\\"\\\"\"}}, {\"@years\": \"1980s\", \"movie\": [{\"@favorite\": \"True\", \"@title\": \"Ferris Bueller's Day Off\", \"format\": {\"@multiple\": \"No\", \"#text\": \"DVD\"}, \"year\": \"1986\", \"rating\": \"PG13\", \"description\": \"Funny movie about a funny guy\"}, {\"@favorite\": \"FALSE\", \"@title\": \"American Psycho\", \"format\": {\"@multiple\": \"No\", \"#text\": \"blue-ray\"}, \"year\": \"2000\", \"rating\": \"Unrated\", \"description\": \"psychopathic Bateman\"}]}]}]}}))\n",
       "        });\n",
       "        "
      ]
     },
     "metadata": {},
     "output_type": "display_data"
    }
   ],
   "source": [
    "import uuid\n",
    "from IPython.display import display_javascript, display_html, display\n",
    "import json\n",
    "\n",
    "class RenderJSON(object):\n",
    "    def __init__(self, json_data):\n",
    "        if isinstance(json_data, dict):\n",
    "            self.json_str = json.dumps(json_data)\n",
    "        else:\n",
    "            self.json_str = json_data\n",
    "        self.uuid = str(uuid.uuid4())\n",
    "\n",
    "    def _ipython_display_(self):\n",
    "        display_html('<div id=\"{}\" style=\"height: 600px; width:100%;\"></div>'.format(self.uuid), raw=True)\n",
    "        display_javascript(\"\"\"\n",
    "        require([\"https://rawgit.com/caldwell/renderjson/master/renderjson.js\"], function() {\n",
    "        document.getElementById('%s').appendChild(renderjson(%s))\n",
    "        });\n",
    "        \"\"\" % (self.uuid, self.json_str), raw=True)\n",
    "        \n",
    "RenderJSON(doc)"
   ]
  },
  {
   "cell_type": "code",
   "execution_count": 16,
   "metadata": {},
   "outputs": [
    {
     "ename": "ParseError",
     "evalue": "not well-formed (invalid token): line 1, column 2 (<string>)",
     "output_type": "error",
     "traceback": [
      "Traceback \u001b[1;36m(most recent call last)\u001b[0m:\n",
      "  File \u001b[0;32m\"C:\\Users\\Mathias\\Anaconda3\\lib\\site-packages\\IPython\\core\\interactiveshell.py\"\u001b[0m, line \u001b[0;32m2963\u001b[0m, in \u001b[0;35mrun_code\u001b[0m\n    exec(code_obj, self.user_global_ns, self.user_ns)\n",
      "  File \u001b[0;32m\"<ipython-input-16-e071ecec9107>\"\u001b[0m, line \u001b[0;32m42\u001b[0m, in \u001b[0;35m<module>\u001b[0m\n    make_dict_from_tree(xml.etree.ElementTree.fromstring(XML_file))\n",
      "\u001b[1;36m  File \u001b[1;32m\"C:\\Users\\Mathias\\Anaconda3\\lib\\xml\\etree\\ElementTree.py\"\u001b[1;36m, line \u001b[1;32m1314\u001b[1;36m, in \u001b[1;35mXML\u001b[1;36m\u001b[0m\n\u001b[1;33m    parser.feed(text)\u001b[0m\n",
      "\u001b[1;36m  File \u001b[1;32m\"<string>\"\u001b[1;36m, line \u001b[1;32munknown\u001b[0m\n\u001b[1;31mParseError\u001b[0m\u001b[1;31m:\u001b[0m not well-formed (invalid token): line 1, column 2\n"
     ]
    }
   ],
   "source": [
    "# From https://ericscrivner.me/2015/07/python-tip-convert-xml-tree-to-a-dictionary/:\n",
    "\n",
    "\n",
    "\n",
    "import xml.etree.ElementTree\n",
    " \n",
    "def make_dict_from_tree(element_tree):\n",
    "    \"\"\"Traverse the given XML element tree to convert it into a dictionary.\n",
    " \n",
    "    :param element_tree: An XML element tree\n",
    "    :type element_tree: xml.etree.ElementTree\n",
    "    :rtype: dict\n",
    "    \"\"\"\n",
    "    def internal_iter(tree, accum):\n",
    "        \"\"\"Recursively iterate through the elements of the tree accumulating\n",
    "        a dictionary result.\n",
    " \n",
    "        :param tree: The XML element tree\n",
    "        :type tree: xml.etree.ElementTree\n",
    "        :param accum: Dictionary into which data is accumulated\n",
    "        :type accum: dict\n",
    "        :rtype: dict\n",
    "        \"\"\"\n",
    "        if tree is None:\n",
    "            return accum\n",
    " \n",
    "        if tree.getchildren():\n",
    "            accum[tree.tag] = {}\n",
    "            for each in tree.getchildren():\n",
    "                result = internal_iter(each, {})\n",
    "                if each.tag in accum[tree.tag]:\n",
    "                    if not isinstance(accum[tree.tag][each.tag], list):\n",
    "                        accum[tree.tag][each.tag] = [\n",
    "                            accum[tree.tag][each.tag]\n",
    "                        ]\n",
    "                    accum[tree.tag][each.tag].append(result[each.tag])\n",
    "                else:\n",
    "                    accum[tree.tag].update(result)\n",
    "        else:\n",
    "            accum[tree.tag] = tree.text\n",
    " \n",
    "        return accum\n",
    " \n",
    "    return internal_iter(element_tree, {})\n",
    " \n",
    "make_dict_from_tree(xml.etree.ElementTree.fromstring(XML_file))"
   ]
  },
  {
   "cell_type": "code",
   "execution_count": 34,
   "metadata": {},
   "outputs": [
    {
     "data": {
      "text/plain": [
       "OrderedDict([('collection',\n",
       "              OrderedDict([('genre',\n",
       "                            [OrderedDict([('@category', 'Action'),\n",
       "                                          ('decade',\n",
       "                                           [OrderedDict([('@years', '1980s'),\n",
       "                                                         ('movie',\n",
       "                                                          [OrderedDict([('@favorite',\n",
       "                                                                         'True'),\n",
       "                                                                        ('@title',\n",
       "                                                                         'Indiana Jones: The raiders of the lost Ark'),\n",
       "                                                                        ('format',\n",
       "                                                                         OrderedDict([('@multiple',\n",
       "                                                                                       'No'),\n",
       "                                                                                      ('#text',\n",
       "                                                                                       'DVD')])),\n",
       "                                                                        ('year',\n",
       "                                                                         '1981'),\n",
       "                                                                        ('rating',\n",
       "                                                                         'PG'),\n",
       "                                                                        ('description',\n",
       "                                                                         \"'Archaeologist and adventurer Indiana Jones \\n                is hired by the U.S. government to find the Ark of the \\n                Covenant before the Nazis.'\")]),\n",
       "                                                           OrderedDict([('@favorite',\n",
       "                                                                         'True'),\n",
       "                                                                        ('@title',\n",
       "                                                                         'THE KARATE KID'),\n",
       "                                                                        ('format',\n",
       "                                                                         OrderedDict([('@multiple',\n",
       "                                                                                       'Yes'),\n",
       "                                                                                      ('#text',\n",
       "                                                                                       'DVD,Online')])),\n",
       "                                                                        ('year',\n",
       "                                                                         '1984'),\n",
       "                                                                        ('rating',\n",
       "                                                                         'PG'),\n",
       "                                                                        ('description',\n",
       "                                                                         'None provided.')]),\n",
       "                                                           OrderedDict([('@favorite',\n",
       "                                                                         'False'),\n",
       "                                                                        ('@title',\n",
       "                                                                         'Back 2 the Future'),\n",
       "                                                                        ('format',\n",
       "                                                                         OrderedDict([('@multiple',\n",
       "                                                                                       'False'),\n",
       "                                                                                      ('#text',\n",
       "                                                                                       'Blu-ray')])),\n",
       "                                                                        ('year',\n",
       "                                                                         '1985'),\n",
       "                                                                        ('rating',\n",
       "                                                                         'PG'),\n",
       "                                                                        ('description',\n",
       "                                                                         'Marty McFly')])])]),\n",
       "                                            OrderedDict([('@years', '1990s'),\n",
       "                                                         ('movie',\n",
       "                                                          [OrderedDict([('@favorite',\n",
       "                                                                         'False'),\n",
       "                                                                        ('@title',\n",
       "                                                                         'X-Men'),\n",
       "                                                                        ('format',\n",
       "                                                                         OrderedDict([('@multiple',\n",
       "                                                                                       'Yes'),\n",
       "                                                                                      ('#text',\n",
       "                                                                                       'dvd, digital')])),\n",
       "                                                                        ('year',\n",
       "                                                                         '2000'),\n",
       "                                                                        ('rating',\n",
       "                                                                         'PG-13'),\n",
       "                                                                        ('description',\n",
       "                                                                         'Two mutants come to a private academy for their kind whose resident superhero team must \\n               oppose a terrorist organization with similar powers.')]),\n",
       "                                                           OrderedDict([('@favorite',\n",
       "                                                                         'True'),\n",
       "                                                                        ('@title',\n",
       "                                                                         'Batman Returns'),\n",
       "                                                                        ('format',\n",
       "                                                                         OrderedDict([('@multiple',\n",
       "                                                                                       'No'),\n",
       "                                                                                      ('#text',\n",
       "                                                                                       'VHS')])),\n",
       "                                                                        ('year',\n",
       "                                                                         '1992'),\n",
       "                                                                        ('rating',\n",
       "                                                                         'PG13'),\n",
       "                                                                        ('description',\n",
       "                                                                         'NA.')]),\n",
       "                                                           OrderedDict([('@favorite',\n",
       "                                                                         'False'),\n",
       "                                                                        ('@title',\n",
       "                                                                         'Reservoir Dogs'),\n",
       "                                                                        ('format',\n",
       "                                                                         OrderedDict([('@multiple',\n",
       "                                                                                       'No'),\n",
       "                                                                                      ('#text',\n",
       "                                                                                       'Online')])),\n",
       "                                                                        ('year',\n",
       "                                                                         '1992'),\n",
       "                                                                        ('rating',\n",
       "                                                                         'R'),\n",
       "                                                                        ('description',\n",
       "                                                                         'WhAtEvER I Want!!!?!')])])])])]),\n",
       "                             OrderedDict([('@category', 'Thriller'),\n",
       "                                          ('decade',\n",
       "                                           [OrderedDict([('@years', '1970s'),\n",
       "                                                         ('movie',\n",
       "                                                          OrderedDict([('@favorite',\n",
       "                                                                        'False'),\n",
       "                                                                       ('@title',\n",
       "                                                                        'ALIEN'),\n",
       "                                                                       ('format',\n",
       "                                                                        OrderedDict([('@multiple',\n",
       "                                                                                      'Yes'),\n",
       "                                                                                     ('#text',\n",
       "                                                                                      'DVD')])),\n",
       "                                                                       ('year',\n",
       "                                                                        '1979'),\n",
       "                                                                       ('rating',\n",
       "                                                                        'R'),\n",
       "                                                                       ('description',\n",
       "                                                                        '\"\"\"\"\"\"\"\"\"')]))]),\n",
       "                                            OrderedDict([('@years', '1980s'),\n",
       "                                                         ('movie',\n",
       "                                                          [OrderedDict([('@favorite',\n",
       "                                                                         'True'),\n",
       "                                                                        ('@title',\n",
       "                                                                         \"Ferris Bueller's Day Off\"),\n",
       "                                                                        ('format',\n",
       "                                                                         OrderedDict([('@multiple',\n",
       "                                                                                       'No'),\n",
       "                                                                                      ('#text',\n",
       "                                                                                       'DVD')])),\n",
       "                                                                        ('year',\n",
       "                                                                         '1986'),\n",
       "                                                                        ('rating',\n",
       "                                                                         'PG13'),\n",
       "                                                                        ('description',\n",
       "                                                                         'Funny movie about a funny guy')]),\n",
       "                                                           OrderedDict([('@favorite',\n",
       "                                                                         'FALSE'),\n",
       "                                                                        ('@title',\n",
       "                                                                         'American Psycho'),\n",
       "                                                                        ('format',\n",
       "                                                                         OrderedDict([('@multiple',\n",
       "                                                                                       'No'),\n",
       "                                                                                      ('#text',\n",
       "                                                                                       'blue-ray')])),\n",
       "                                                                        ('year',\n",
       "                                                                         '2000'),\n",
       "                                                                        ('rating',\n",
       "                                                                         'Unrated'),\n",
       "                                                                        ('description',\n",
       "                                                                         'psychopathic Bateman')])])])])])])]))])"
      ]
     },
     "execution_count": 34,
     "metadata": {},
     "output_type": "execute_result"
    }
   ],
   "source": [
    "# Using https://pythonadventures.wordpress.com/2014/12/29/xml-to-dict-xml-to-json/\n",
    "\n",
    "import xmltodict\n",
    " \n",
    "def convert(xml_file, xml_attribs=True):\n",
    "    with open(xml_file, \"rb\") as f:    # notice the \"rb\" mode\n",
    "        d = xmltodict.parse(f, xml_attribs=xml_attribs)\n",
    "        return d\n",
    "    \n",
    "convert(XML_file)\n",
    "\n"
   ]
  },
  {
   "cell_type": "code",
   "execution_count": 9,
   "metadata": {},
   "outputs": [
    {
     "ename": "ModuleNotFoundError",
     "evalue": "No module named 'ElementTree'",
     "output_type": "error",
     "traceback": [
      "\u001b[1;31m---------------------------------------------------------------------------\u001b[0m",
      "\u001b[1;31mModuleNotFoundError\u001b[0m                       Traceback (most recent call last)",
      "\u001b[1;32m<ipython-input-9-ab611a1c6fbe>\u001b[0m in \u001b[0;36m<module>\u001b[1;34m()\u001b[0m\n\u001b[1;32m----> 1\u001b[1;33m \u001b[1;32mimport\u001b[0m \u001b[0mElementTree\u001b[0m \u001b[1;32mas\u001b[0m \u001b[0mElementTree\u001b[0m\u001b[1;33m\u001b[0m\u001b[0m\n\u001b[0m\u001b[0;32m      2\u001b[0m \u001b[1;33m\u001b[0m\u001b[0m\n\u001b[0;32m      3\u001b[0m \u001b[1;32mclass\u001b[0m \u001b[0mXmlListConfig\u001b[0m\u001b[1;33m(\u001b[0m\u001b[0mlist\u001b[0m\u001b[1;33m)\u001b[0m\u001b[1;33m:\u001b[0m\u001b[1;33m\u001b[0m\u001b[0m\n\u001b[0;32m      4\u001b[0m     \u001b[1;32mdef\u001b[0m \u001b[0m__init__\u001b[0m\u001b[1;33m(\u001b[0m\u001b[0mself\u001b[0m\u001b[1;33m,\u001b[0m \u001b[0maList\u001b[0m\u001b[1;33m)\u001b[0m\u001b[1;33m:\u001b[0m\u001b[1;33m\u001b[0m\u001b[0m\n\u001b[0;32m      5\u001b[0m         \u001b[1;32mfor\u001b[0m \u001b[0melement\u001b[0m \u001b[1;32min\u001b[0m \u001b[0maList\u001b[0m\u001b[1;33m:\u001b[0m\u001b[1;33m\u001b[0m\u001b[0m\n",
      "\u001b[1;31mModuleNotFoundError\u001b[0m: No module named 'ElementTree'"
     ]
    }
   ],
   "source": [
    "import cElementTree as ElementTree\n",
    "\n",
    "class XmlListConfig(list):\n",
    "    def __init__(self, aList):\n",
    "        for element in aList:\n",
    "            if element:\n",
    "                # treat like dict\n",
    "                if len(element) == 1 or element[0].tag != element[1].tag:\n",
    "                    self.append(XmlDictConfig(element))\n",
    "                # treat like list\n",
    "                elif element[0].tag == element[1].tag:\n",
    "                    self.append(XmlListConfig(element))\n",
    "            elif element.text:\n",
    "                text = element.text.strip()\n",
    "                if text:\n",
    "                    self.append(text)\n",
    "\n",
    "\n",
    "class XmlDictConfig(dict):\n",
    "    '''\n",
    "    Example usage:\n",
    "\n",
    "    >>> tree = ElementTree.parse('your_file.xml')\n",
    "    >>> root = tree.getroot()\n",
    "    >>> xmldict = XmlDictConfig(root)\n",
    "\n",
    "    Or, if you want to use an XML string:\n",
    "\n",
    "    >>> root = ElementTree.XML(xml_string)\n",
    "    >>> xmldict = XmlDictConfig(root)\n",
    "\n",
    "    And then use xmldict for what it is... a dict.\n",
    "    '''\n",
    "    def __init__(self, parent_element):\n",
    "        if parent_element.items():\n",
    "            self.update(dict(parent_element.items()))\n",
    "        for element in parent_element:\n",
    "            if element:\n",
    "                # treat like dict - we assume that if the first two tags\n",
    "                # in a series are different, then they are all different.\n",
    "                if len(element) == 1 or element[0].tag != element[1].tag:\n",
    "                    aDict = XmlDictConfig(element)\n",
    "                # treat like list - we assume that if the first two tags\n",
    "                # in a series are the same, then the rest are the same.\n",
    "                else:\n",
    "                    # here, we put the list in dictionary; the key is the\n",
    "                    # tag name the list elements all share in common, and\n",
    "                    # the value is the list itself \n",
    "                    aDict = {element[0].tag: XmlListConfig(element)}\n",
    "                # if the tag has attributes, add those to the dict\n",
    "                if element.items():\n",
    "                    aDict.update(dict(element.items()))\n",
    "                self.update({element.tag: aDict})\n",
    "            # this assumes that if you've got an attribute in a tag,\n",
    "            # you won't be having any text. This may or may not be a \n",
    "            # good idea -- time will tell. It works for the way we are\n",
    "            # currently doing XML configuration files...\n",
    "            elif element.items():\n",
    "                self.update({element.tag: dict(element.items())})\n",
    "            # finally, if there are no child tags and no attributes, extract\n",
    "            # the text\n",
    "            else:\n",
    "                self.update({element.tag: element.text})"
   ]
  },
  {
   "cell_type": "code",
   "execution_count": 7,
   "metadata": {},
   "outputs": [
    {
     "ename": "NameError",
     "evalue": "name 'ElementTree' is not defined",
     "output_type": "error",
     "traceback": [
      "\u001b[1;31m---------------------------------------------------------------------------\u001b[0m",
      "\u001b[1;31mNameError\u001b[0m                                 Traceback (most recent call last)",
      "\u001b[1;32m<ipython-input-7-6ef39512be83>\u001b[0m in \u001b[0;36m<module>\u001b[1;34m()\u001b[0m\n\u001b[1;32m----> 1\u001b[1;33m \u001b[0mtree\u001b[0m \u001b[1;33m=\u001b[0m \u001b[0mElementTree\u001b[0m\u001b[1;33m.\u001b[0m\u001b[0mparse\u001b[0m\u001b[1;33m(\u001b[0m\u001b[0mXML_file\u001b[0m\u001b[1;33m)\u001b[0m\u001b[1;33m\u001b[0m\u001b[0m\n\u001b[0m\u001b[0;32m      2\u001b[0m \u001b[0mroot\u001b[0m \u001b[1;33m=\u001b[0m \u001b[0mtree\u001b[0m\u001b[1;33m.\u001b[0m\u001b[0mgetroot\u001b[0m\u001b[1;33m(\u001b[0m\u001b[1;33m)\u001b[0m\u001b[1;33m\u001b[0m\u001b[0m\n\u001b[0;32m      3\u001b[0m \u001b[0mxmldict\u001b[0m \u001b[1;33m=\u001b[0m \u001b[0mXmlDictConfig\u001b[0m\u001b[1;33m(\u001b[0m\u001b[0mroot\u001b[0m\u001b[1;33m)\u001b[0m\u001b[1;33m\u001b[0m\u001b[0m\n",
      "\u001b[1;31mNameError\u001b[0m: name 'ElementTree' is not defined"
     ]
    }
   ],
   "source": [
    "import cElementTree as ElementTree\n",
    "\n",
    "tree = ElementTree.parse(XML_file)\n",
    "root = tree.getroot()\n",
    "xmldict = XmlDictConfig(root)"
   ]
  },
  {
   "cell_type": "code",
   "execution_count": null,
   "metadata": {},
   "outputs": [],
   "source": []
  }
 ],
 "metadata": {
  "kernelspec": {
   "display_name": "Python 3",
   "language": "python",
   "name": "python3"
  },
  "language_info": {
   "codemirror_mode": {
    "name": "ipython",
    "version": 3
   },
   "file_extension": ".py",
   "mimetype": "text/x-python",
   "name": "python",
   "nbconvert_exporter": "python",
   "pygments_lexer": "ipython3",
   "version": "3.6.5"
  }
 },
 "nbformat": 4,
 "nbformat_minor": 2
}
